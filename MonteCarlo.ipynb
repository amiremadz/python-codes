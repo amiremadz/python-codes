{
 "cells": [
  {
   "cell_type": "markdown",
   "id": "73023647-7d4c-4640-9ad2-5875b027ed45",
   "metadata": {},
   "source": [
    "## Throw darts in a circle inscribed in a square\n",
    "\n",
    "* Probability of hitting the circle: $\\pi/4$ "
   ]
  },
  {
   "cell_type": "code",
   "execution_count": 57,
   "id": "03ea21b5-cade-4438-a2b0-d0115de9cd76",
   "metadata": {},
   "outputs": [],
   "source": [
    "import timeit\n",
    "import numpy as np\n",
    "from scipy.stats import bernoulli\n",
    "from matplotlib import pyplot as plt"
   ]
  },
  {
   "cell_type": "code",
   "execution_count": 10,
   "id": "8c88522f-4347-407e-a6b2-11fe9289c2cc",
   "metadata": {},
   "outputs": [],
   "source": [
    "r = 1\n",
    "l = 2"
   ]
  },
  {
   "cell_type": "code",
   "execution_count": 21,
   "id": "fdb1f0b4-9e94-4976-8550-cd692133fe00",
   "metadata": {},
   "outputs": [
    {
     "name": "stdout",
     "output_type": "stream",
     "text": [
      "The time difference is : 6.34565963399973 sec\n"
     ]
    }
   ],
   "source": [
    "itts = 1_000_000\n",
    "count  = 0\n",
    "\n",
    "starttime = timeit.default_timer()\n",
    "\n",
    "for itt in range(itts):\n",
    "    point = np.random.uniform(-1, 1, 2)\n",
    "        \n",
    "    if np.linalg.norm(point) < r:\n",
    "        count += 1        \n",
    "\n",
    "print(\"The time difference is : {} sec\".format(timeit.default_timer() - starttime))        "
   ]
  },
  {
   "cell_type": "code",
   "execution_count": 20,
   "id": "9d2f414d-7c03-44fa-8bec-d464dc63968e",
   "metadata": {},
   "outputs": [
    {
     "name": "stdout",
     "output_type": "stream",
     "text": [
      "Theoretical probability: 0.7853981633974483\n",
      "Monte Carlo probability: 0.785281\n"
     ]
    }
   ],
   "source": [
    "print('Theoretical probability: {}'.format(np.pi / 4))        \n",
    "print('Monte Carlo probability: {}'.format(count / itts))        "
   ]
  },
  {
   "cell_type": "markdown",
   "id": "6a8090b9-e8a4-489c-a7c9-0a35b29c3291",
   "metadata": {},
   "source": [
    "## A Game\n",
    "\n",
    "* Probability of win: $p$\n",
    "* If lose 2 in a row: Game over\n",
    "* Expected number of rounds\n",
    "\n",
    "### Solution\n",
    "\n",
    "$e = (1 + e) \\times p + (2) \\times (1 - p)^2 + (2 + e) \\times (1 - p) \\times p$\n",
    "\n",
    "$\\Rightarrow e=\\frac{2 - p}{(1 - p)^2}$\n"
   ]
  },
  {
   "cell_type": "code",
   "execution_count": 90,
   "id": "082bdb40-4031-4564-9432-9b7f3a349e0e",
   "metadata": {},
   "outputs": [
    {
     "name": "stdout",
     "output_type": "stream",
     "text": [
      "The time difference is : 40.2745097779989 sec\n"
     ]
    }
   ],
   "source": [
    "itts = 1_000_000\n",
    "p = .75\n",
    "\n",
    "rounds = []\n",
    "\n",
    "starttime = timeit.default_timer()       \n",
    "\n",
    "for itt in range(itts):\n",
    "    nloss = 0\n",
    "    nround = 0\n",
    "    \n",
    "    while nloss < 2:       \n",
    "        nround += 1\n",
    "\n",
    "        # Use Bernoulli pdf\n",
    "        #rnd = np.random.binomial(1, p, 1)[0]\n",
    "        #rnd = bernoulli.rvs(p=p, size=1)[0]\n",
    "        #if (rnd == 0):\n",
    "        #    nloss += 1\n",
    "        #else:\n",
    "        #    nloss = 0\n",
    "        \n",
    "        # Use Uniform pdf\n",
    "        rnd = np.random.uniform()\n",
    "        if rnd < p:\n",
    "            nloss = 0\n",
    "        else:\n",
    "            nloss += 1        \n",
    "        \n",
    "    rounds.append(nround)   \n",
    "\n",
    "print(\"The time difference is : {} sec\".format(timeit.default_timer() - starttime))        "
   ]
  },
  {
   "cell_type": "code",
   "execution_count": 91,
   "id": "18375a5d-62eb-4d56-bf15-9dc396daedb6",
   "metadata": {},
   "outputs": [
    {
     "data": {
      "text/plain": [
       "(array([2.80769e+05, 1.97600e+05, 1.22407e+05, 1.09825e+05, 6.80930e+04,\n",
       "        6.06430e+04, 3.75490e+04, 3.40750e+04, 2.06610e+04, 1.88230e+04,\n",
       "        1.15890e+04, 1.04690e+04, 7.55400e+03, 4.74000e+03, 4.14300e+03,\n",
       "        2.60600e+03, 2.30200e+03, 1.49300e+03, 1.33100e+03, 7.94000e+02,\n",
       "        7.20000e+02, 4.41000e+02, 3.57000e+02, 2.46000e+02, 2.06000e+02,\n",
       "        1.61000e+02, 1.12000e+02, 7.80000e+01, 4.60000e+01, 4.70000e+01,\n",
       "        2.80000e+01, 2.50000e+01, 1.70000e+01, 1.60000e+01, 8.00000e+00,\n",
       "        8.00000e+00, 4.00000e+00, 1.00000e+00, 2.00000e+00, 4.00000e+00,\n",
       "        2.00000e+00, 2.00000e+00, 0.00000e+00, 0.00000e+00, 2.00000e+00,\n",
       "        0.00000e+00, 0.00000e+00, 0.00000e+00, 0.00000e+00, 1.00000e+00]),\n",
       " array([  2.  ,   7.54,  13.08,  18.62,  24.16,  29.7 ,  35.24,  40.78,\n",
       "         46.32,  51.86,  57.4 ,  62.94,  68.48,  74.02,  79.56,  85.1 ,\n",
       "         90.64,  96.18, 101.72, 107.26, 112.8 , 118.34, 123.88, 129.42,\n",
       "        134.96, 140.5 , 146.04, 151.58, 157.12, 162.66, 168.2 , 173.74,\n",
       "        179.28, 184.82, 190.36, 195.9 , 201.44, 206.98, 212.52, 218.06,\n",
       "        223.6 , 229.14, 234.68, 240.22, 245.76, 251.3 , 256.84, 262.38,\n",
       "        267.92, 273.46, 279.  ]),\n",
       " <BarContainer object of 50 artists>)"
      ]
     },
     "execution_count": 91,
     "metadata": {},
     "output_type": "execute_result"
    },
    {
     "data": {
      "image/png": "[encoded data removed]",
      "text/plain": [
       "<Figure size 432x288 with 1 Axes>"
      ]
     },
     "metadata": {
      "needs_background": "light"
     },
     "output_type": "display_data"
    }
   ],
   "source": [
    "plt.hist(rounds, bins=50, color='orange', edgecolor='white')"
   ]
  },
  {
   "cell_type": "code",
   "execution_count": 92,
   "id": "43dfa281-a255-4933-952f-275919425aee",
   "metadata": {},
   "outputs": [
    {
     "name": "stdout",
     "output_type": "stream",
     "text": [
      "Theoretical expectated value: 20.0\n",
      "Monte Carlo expectated value: 20.028513\n"
     ]
    }
   ],
   "source": [
    "print('Theoretical expectated value: {}'.format((2 - p) / (1 - p) ** 2))\n",
    "print('Monte Carlo expectated value: {}'.format(np.mean(rounds)))"
   ]
  }
 ],
 "metadata": {
  "kernelspec": {
   "display_name": "Python 3",
   "language": "python",
   "name": "python3"
  },
  "language_info": {
   "codemirror_mode": {
    "name": "ipython",
    "version": 3
   },
   "file_extension": ".py",
   "mimetype": "text/x-python",
   "name": "python",
   "nbconvert_exporter": "python",
   "pygments_lexer": "ipython3",
   "version": "3.9.1"
  }
 },
 "nbformat": 4,
 "nbformat_minor": 5
}
