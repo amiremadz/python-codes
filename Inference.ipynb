{
 "cells": [
  {
   "cell_type": "code",
   "execution_count": 2,
   "id": "7ff0758d-2653-48b8-9ebe-c6a3cad300e8",
   "metadata": {},
   "outputs": [],
   "source": [
    "import numpy as np\n",
    "import pandas as pd\n",
    "import seaborn as sns\n",
    "\n",
    "from collections import Counter\n",
    "\n",
    "from scipy.stats import poisson\n",
    "from scipy.stats import gamma\n",
    "from scipy.stats import norm\n",
    "from scipy.stats import chi2\n",
    "from scipy.stats import multivariate_normal\n",
    "from scipy.stats import gaussian_kde\n",
    "\n",
    "from empiricaldist import Pmf\n",
    "from empiricaldist import Cdf\n",
    "\n",
    "from fractions import Fraction\n",
    "from matplotlib import pyplot as plt\n",
    "from scipy.stats import binom\n",
    "from scipy.interpolate import interp1d"
   ]
  },
  {
   "cell_type": "code",
   "execution_count": 3,
   "id": "8455c2da-4816-4371-b963-7b1301b63a44",
   "metadata": {},
   "outputs": [],
   "source": [
    "def decorate(**options):\n",
    "    \"\"\"Decorate the current axes.\n",
    "\n",
    "    Call decorate with keyword arguments like\n",
    "    decorate(title='Title',\n",
    "             xlabel='x',\n",
    "             ylabel='y')\n",
    "\n",
    "    The keyword arguments can be any of the axis properties\n",
    "    https://matplotlib.org/api/axes_api.html\n",
    "    \"\"\"\n",
    "    ax = plt.gca()\n",
    "    ax.set(**options)\n",
    "\n",
    "    handles, labels = ax.get_legend_handles_labels()\n",
    "    if handles:\n",
    "        ax.legend(handles, labels)\n",
    "\n",
    "    plt.tight_layout()"
   ]
  },
  {
   "cell_type": "code",
   "execution_count": 4,
   "id": "37fe77d5-bd18-4f2c-bdc9-fa8041cdd59b",
   "metadata": {},
   "outputs": [],
   "source": [
    "def make_joint(s1, s2):\n",
    "    \"\"\"Compute the outer product of two Series.\n",
    "\n",
    "    First Series goes across the columns;\n",
    "    second goes down the rows.\n",
    "\n",
    "    s1: Series\n",
    "    s2: Series\n",
    "\n",
    "    return: DataFrame\n",
    "    \"\"\"\n",
    "    X, Y = np.meshgrid(s1, s2)\n",
    "    return pd.DataFrame(X*Y, columns=s1.index, index=s2.index)"
   ]
  },
  {
   "cell_type": "code",
   "execution_count": 5,
   "id": "e9d57e92-0dc7-4e93-ac80-df2c81230046",
   "metadata": {},
   "outputs": [],
   "source": [
    "def make_uniform(qs, name=None, **options):\n",
    "    \"\"\"Make a Pmf that represents a uniform distribution.\"\"\"\n",
    "    pmf = Pmf(1.0, qs, **options)\n",
    "    pmf.normalize()\n",
    "    if name:\n",
    "        pmf.index.name = name\n",
    "    return pmf"
   ]
  },
  {
   "cell_type": "code",
   "execution_count": 6,
   "id": "d0b3748a-2911-4cb1-bdaf-f7f2b5ed19af",
   "metadata": {},
   "outputs": [],
   "source": [
    "def plot_contour(joint, **options):\n",
    "    \"\"\"Plot a joint distribution.\n",
    "\n",
    "    joint: DataFrame representing a joint PMF\n",
    "    \"\"\"\n",
    "    low = joint.to_numpy().min()\n",
    "    high = joint.to_numpy().max()\n",
    "    levels = np.linspace(low, high, 6)\n",
    "    levels = levels[1:]\n",
    "\n",
    "    underride(options, levels=levels, linewidths=1)\n",
    "    cs = plt.contour(joint.columns, joint.index, joint, **options)\n",
    "    decorate(xlabel=joint.columns.name,\n",
    "             ylabel=joint.index.name)\n",
    "    return cs"
   ]
  },
  {
   "cell_type": "code",
   "execution_count": 7,
   "id": "75a38f82-959c-4943-892d-b8152b609079",
   "metadata": {},
   "outputs": [],
   "source": [
    "def normalize(joint):\n",
    "    \"\"\"Normalize a joint distribution.\n",
    "\n",
    "    joint: DataFrame\n",
    "    \"\"\"\n",
    "    prob_data = joint.to_numpy().sum()\n",
    "    joint /= prob_data\n",
    "    return prob_data"
   ]
  },
  {
   "cell_type": "code",
   "execution_count": 8,
   "id": "70915015-ea44-44b6-a75f-9284a30b89de",
   "metadata": {},
   "outputs": [],
   "source": [
    "def marginal(joint, axis):\n",
    "    \"\"\"Compute a marginal distribution.\n",
    "\n",
    "    axis=0 returns the marginal distribution of the first variable\n",
    "    axis=1 returns the marginal distribution of the second variable\n",
    "\n",
    "    joint: DataFrame representing a joint distribution\n",
    "    axis: int axis to sum along\n",
    "\n",
    "    returns: Pmf\n",
    "    \"\"\"\n",
    "    return Pmf(joint.sum(axis=axis))"
   ]
  },
  {
   "cell_type": "code",
   "execution_count": 9,
   "id": "1f78d5c7-8739-4300-ba25-a87666163bdd",
   "metadata": {},
   "outputs": [],
   "source": [
    "def kde_from_sample(sample, qs, **options):\n",
    "    \"\"\"Make a kernel density estimate from a sample\n",
    "\n",
    "    sample: sequence of values\n",
    "    qs: quantities where we should evaluate the KDE\n",
    "\n",
    "    returns: normalized Pmf\n",
    "    \"\"\"\n",
    "    kde = gaussian_kde(sample)\n",
    "    ps = kde(qs)\n",
    "    pmf = Pmf(ps, qs, **options)\n",
    "    pmf.normalize()\n",
    "    return pmf"
   ]
  },
  {
   "cell_type": "code",
   "execution_count": 10,
   "id": "158335b2-77e2-4264-b53e-107dce058514",
   "metadata": {},
   "outputs": [],
   "source": [
    "def underride(d, **options):\n",
    "    \"\"\"Add key-value pairs to d only if key is not in d.\n",
    "\n",
    "    d: dictionary\n",
    "    options: keyword args to add to d\n",
    "    \"\"\"\n",
    "    for key, val in options.items():\n",
    "        d.setdefault(key, val)\n",
    "\n",
    "    return d"
   ]
  },
  {
   "cell_type": "code",
   "execution_count": 11,
   "id": "97c03c85-9ccc-48c1-92ad-cdd0c997d144",
   "metadata": {},
   "outputs": [],
   "source": [
    "def set_pyplot_params():\n",
    "    # plt.rcParams['figure.dpi'] = 300\n",
    "    plt.rcParams['axes.prop_cycle'] = color_cycle\n",
    "    plt.rcParams['lines.linewidth'] = 3"
   ]
  },
  {
   "cell_type": "markdown",
   "id": "7e349955-1255-4bcb-aeef-e1a72cd97e8d",
   "metadata": {},
   "source": [
    "## Improving Reading Ability\n",
    "\n",
    "We'll use data from a [Ph.D. dissertation in educational psychology](https://docs.lib.purdue.edu/dissertations/AAI8807671/) written in 1987, which was used as an example in a [statistics textbook](https://books.google.com/books/about/Introduction_to_the_practice_of_statisti.html?id=pGBNhajABlUC) from 1989 and published on [DASL](https://web.archive.org/web/20000603124754/http://lib.stat.cmu.edu/DASL/Datafiles/DRPScores.html), a web page that collects data stories.  \n",
    "\n",
    "Here's the description from DASL:\n",
    "\n",
    "> An educator conducted an experiment to test whether new directed reading activities in the classroom will help elementary school pupils improve some aspects of their reading ability. She arranged for a third grade class of 21 students to follow these activities for an 8-week period. A control classroom of 23 third graders followed the same curriculum without the activities. At the end of the 8 weeks, all students took a Degree of Reading Power (DRP) test, which measures the aspects of reading ability that the treatment is designed to improve.\n",
    "\n",
    "The [dataset is available here](https://web.archive.org/web/20000603124754/http://lib.stat.cmu.edu/DASL/Datafiles/DRPScores.html)."
   ]
  },
  {
   "cell_type": "code",
   "execution_count": 12,
   "id": "c7d649f6-ba9c-4383-83d7-8d1aff00d807",
   "metadata": {},
   "outputs": [],
   "source": [
    "#download('https://github.com/AllenDowney/ThinkBayes2/raw/master/data/drp_scores.csv')"
   ]
  },
  {
   "cell_type": "code",
   "execution_count": 13,
   "id": "ae357b98-3140-4035-99c0-77c4587e506a",
   "metadata": {},
   "outputs": [
    {
     "data": {
      "text/html": [
       "<div>\n",
       "<style scoped>\n",
       "    .dataframe tbody tr th:only-of-type {\n",
       "        vertical-align: middle;\n",
       "    }\n",
       "\n",
       "    .dataframe tbody tr th {\n",
       "        vertical-align: top;\n",
       "    }\n",
       "\n",
       "    .dataframe thead th {\n",
       "        text-align: right;\n",
       "    }\n",
       "</style>\n",
       "<table border=\"1\" class=\"dataframe\">\n",
       "  <thead>\n",
       "    <tr style=\"text-align: right;\">\n",
       "      <th></th>\n",
       "      <th>Treatment</th>\n",
       "      <th>Response</th>\n",
       "    </tr>\n",
       "  </thead>\n",
       "  <tbody>\n",
       "    <tr>\n",
       "      <th>0</th>\n",
       "      <td>Treated</td>\n",
       "      <td>24</td>\n",
       "    </tr>\n",
       "    <tr>\n",
       "      <th>1</th>\n",
       "      <td>Treated</td>\n",
       "      <td>43</td>\n",
       "    </tr>\n",
       "    <tr>\n",
       "      <th>2</th>\n",
       "      <td>Treated</td>\n",
       "      <td>58</td>\n",
       "    </tr>\n",
       "  </tbody>\n",
       "</table>\n",
       "</div>"
      ],
      "text/plain": [
       "  Treatment  Response\n",
       "0   Treated        24\n",
       "1   Treated        43\n",
       "2   Treated        58"
      ]
     },
     "execution_count": 13,
     "metadata": {},
     "output_type": "execute_result"
    }
   ],
   "source": [
    "df = pd.read_csv('drp_scores.csv', skiprows=21, delimiter='\\t')\n",
    "df.head(3)"
   ]
  },
  {
   "cell_type": "code",
   "execution_count": 14,
   "id": "39e031bc-5ddd-4432-9a87-0f50937d4d21",
   "metadata": {},
   "outputs": [
    {
     "data": {
      "text/plain": [
       "(44, 2)"
      ]
     },
     "execution_count": 14,
     "metadata": {},
     "output_type": "execute_result"
    }
   ],
   "source": [
    "df.shape"
   ]
  },
  {
   "cell_type": "code",
   "execution_count": 15,
   "id": "6d39441a-4be7-4d26-bd6a-ae586c59205a",
   "metadata": {},
   "outputs": [
    {
     "data": {
      "text/plain": [
       "Treatment\n",
       "Control    23\n",
       "Treated    21\n",
       "dtype: int64"
      ]
     },
     "execution_count": 15,
     "metadata": {},
     "output_type": "execute_result"
    }
   ],
   "source": [
    "df.groupby('Treatment').size()"
   ]
  },
  {
   "cell_type": "code",
   "execution_count": 16,
   "id": "7f911e43-74e9-40fd-a442-e39bace67ca3",
   "metadata": {},
   "outputs": [
    {
     "data": {
      "text/plain": [
       "(           Response\n",
       " Treatment          \n",
       " Control          10\n",
       " Treated          24,\n",
       "            Response\n",
       " Treatment          \n",
       " Control          85\n",
       " Treated          71)"
      ]
     },
     "execution_count": 16,
     "metadata": {},
     "output_type": "execute_result"
    }
   ],
   "source": [
    "df.groupby('Treatment').min(), df.groupby('Treatment').max()"
   ]
  },
  {
   "cell_type": "code",
   "execution_count": 17,
   "id": "e9dea5fb-373d-46b5-98f4-e4f24c0a295c",
   "metadata": {},
   "outputs": [],
   "source": [
    "grouped = df.groupby('Treatment')\n",
    "responses = {}\n",
    "\n",
    "for name, group in grouped:\n",
    "    responses[name] = group['Response']"
   ]
  },
  {
   "cell_type": "code",
   "execution_count": 18,
   "id": "0e6cd339-988e-4829-9038-775f1e09ed56",
   "metadata": {},
   "outputs": [
    {
     "data": {
      "image/png": "[encoded data removed]",
      "text/plain": [
       "<Figure size 432x288 with 1 Axes>"
      ]
     },
     "metadata": {
      "needs_background": "light"
     },
     "output_type": "display_data"
    }
   ],
   "source": [
    "for name, response in responses.items():\n",
    "    cdf = Cdf.from_seq(response)\n",
    "    cdf.plot(label=name)\n",
    "    \n",
    "decorate(xlabel='Score', \n",
    "         ylabel='CDF',\n",
    "         title='Distributions of test scores')"
   ]
  },
  {
   "cell_type": "markdown",
   "id": "aa9dbdfe-3c07-4a16-8ddd-d96c7926e32a",
   "metadata": {},
   "source": [
    "There is overlap between the distributions, but it looks like the scores are higher in the treated group. The distribution of scores is not exactly normal for either group, but it is close enough that the normal model is a reasonable choice.\n",
    "\n",
    "So I’ll assume that in the entire population of students (not just the ones in the experiment), the distribution of scores is well modeled by a normal distribution with unknown mean and standard deviation. I’ll use `mu` and `sigma` to denote these unknown parameters, and we’ll do a Bayesian update to estimate what they are."
   ]
  },
  {
   "cell_type": "markdown",
   "id": "8fac8021-3f43-4c37-aeed-4b9fdeb2cde0",
   "metadata": {},
   "source": [
    "## Prior\n",
    "\n",
    "* Assume that in the entire population of students (not just the ones in the experiment), the distribution of scores is well modeled by a normal distribution with unknown mean (`mu`) and standard deviation (`sigma`).\n",
    "\n",
    "* Assume that the prior distributions for `mu` and `sigma` are uniform. "
   ]
  },
  {
   "cell_type": "code",
   "execution_count": 19,
   "id": "d4c23e31-21b1-4c02-9ff8-935ab4872e02",
   "metadata": {},
   "outputs": [
    {
     "data": {
      "text/html": [
       "<div>\n",
       "<style scoped>\n",
       "    .dataframe tbody tr th:only-of-type {\n",
       "        vertical-align: middle;\n",
       "    }\n",
       "\n",
       "    .dataframe tbody tr th {\n",
       "        vertical-align: top;\n",
       "    }\n",
       "\n",
       "    .dataframe thead th {\n",
       "        text-align: right;\n",
       "    }\n",
       "</style>\n",
       "<table border=\"1\" class=\"dataframe\">\n",
       "  <thead>\n",
       "    <tr style=\"text-align: right;\">\n",
       "      <th></th>\n",
       "      <th>probs</th>\n",
       "    </tr>\n",
       "    <tr>\n",
       "      <th>mean</th>\n",
       "      <th></th>\n",
       "    </tr>\n",
       "  </thead>\n",
       "  <tbody>\n",
       "    <tr>\n",
       "      <th>20.0</th>\n",
       "      <td>0.009901</td>\n",
       "    </tr>\n",
       "    <tr>\n",
       "      <th>20.6</th>\n",
       "      <td>0.009901</td>\n",
       "    </tr>\n",
       "    <tr>\n",
       "      <th>21.2</th>\n",
       "      <td>0.009901</td>\n",
       "    </tr>\n",
       "  </tbody>\n",
       "</table>\n",
       "</div>"
      ],
      "text/plain": [
       "mean\n",
       "20.0    0.009901\n",
       "20.6    0.009901\n",
       "21.2    0.009901\n",
       "Name: , dtype: float64"
      ]
     },
     "execution_count": 19,
     "metadata": {},
     "output_type": "execute_result"
    }
   ],
   "source": [
    "qs = np.linspace(20, 80, num=101)\n",
    "prior_mu = make_uniform(qs, name='mean')\n",
    "prior_mu.head()"
   ]
  },
  {
   "cell_type": "code",
   "execution_count": 20,
   "id": "4de849fe-9490-4b7d-bbca-a895abf89481",
   "metadata": {},
   "outputs": [
    {
     "data": {
      "text/html": [
       "<div>\n",
       "<style scoped>\n",
       "    .dataframe tbody tr th:only-of-type {\n",
       "        vertical-align: middle;\n",
       "    }\n",
       "\n",
       "    .dataframe tbody tr th {\n",
       "        vertical-align: top;\n",
       "    }\n",
       "\n",
       "    .dataframe thead th {\n",
       "        text-align: right;\n",
       "    }\n",
       "</style>\n",
       "<table border=\"1\" class=\"dataframe\">\n",
       "  <thead>\n",
       "    <tr style=\"text-align: right;\">\n",
       "      <th></th>\n",
       "      <th>probs</th>\n",
       "    </tr>\n",
       "    <tr>\n",
       "      <th>std</th>\n",
       "      <th></th>\n",
       "    </tr>\n",
       "  </thead>\n",
       "  <tbody>\n",
       "    <tr>\n",
       "      <th>5.00</th>\n",
       "      <td>0.009901</td>\n",
       "    </tr>\n",
       "    <tr>\n",
       "      <th>5.25</th>\n",
       "      <td>0.009901</td>\n",
       "    </tr>\n",
       "    <tr>\n",
       "      <th>5.50</th>\n",
       "      <td>0.009901</td>\n",
       "    </tr>\n",
       "  </tbody>\n",
       "</table>\n",
       "</div>"
      ],
      "text/plain": [
       "std\n",
       "5.00    0.009901\n",
       "5.25    0.009901\n",
       "5.50    0.009901\n",
       "Name: , dtype: float64"
      ]
     },
     "execution_count": 20,
     "metadata": {},
     "output_type": "execute_result"
    }
   ],
   "source": [
    "qs = np.linspace(5, 30, num=101)\n",
    "prior_sigma = make_uniform(qs, name='std')\n",
    "prior_sigma.head()"
   ]
  },
  {
   "cell_type": "code",
   "execution_count": 21,
   "id": "64ef06ca-89f5-4d13-92d6-faa246e5863a",
   "metadata": {},
   "outputs": [],
   "source": [
    "prior = make_joint(prior_mu, prior_sigma)"
   ]
  },
  {
   "cell_type": "markdown",
   "id": "059577bc-0fec-4a57-b85c-eeb8d4fa1d04",
   "metadata": {},
   "source": [
    "## Likelihood"
   ]
  },
  {
   "cell_type": "code",
   "execution_count": 22,
   "id": "0ec94bd0-6466-46ad-b267-d95cd0d5cf63",
   "metadata": {},
   "outputs": [
    {
     "data": {
      "text/plain": [
       "(23,)"
      ]
     },
     "execution_count": 22,
     "metadata": {},
     "output_type": "execute_result"
    }
   ],
   "source": [
    "data = responses['Control']\n",
    "data.shape"
   ]
  },
  {
   "cell_type": "code",
   "execution_count": 23,
   "id": "4a9d3c71-18ed-428c-aae3-2a1c50b618f7",
   "metadata": {},
   "outputs": [
    {
     "data": {
      "text/plain": [
       "(101, 101, 23)"
      ]
     },
     "execution_count": 23,
     "metadata": {},
     "output_type": "execute_result"
    }
   ],
   "source": [
    "mu_mesh, sigma_mesh, data_mesh = np.meshgrid(prior.columns, prior.index, data)\n",
    "mu_mesh.shape"
   ]
  },
  {
   "cell_type": "code",
   "execution_count": 24,
   "id": "3cfc0fbb-eb31-4a0e-ac31-82e9729e836a",
   "metadata": {},
   "outputs": [
    {
     "data": {
      "text/plain": [
       "(101, 101, 23)"
      ]
     },
     "execution_count": 24,
     "metadata": {},
     "output_type": "execute_result"
    }
   ],
   "source": [
    "densities = norm(mu_mesh, sigma_mesh).pdf(data_mesh)\n",
    "densities.shape"
   ]
  },
  {
   "cell_type": "code",
   "execution_count": 25,
   "id": "df06c016-ff9c-4de3-9e4b-42a49f18a331",
   "metadata": {},
   "outputs": [
    {
     "data": {
      "text/plain": [
       "(101, 101)"
      ]
     },
     "execution_count": 25,
     "metadata": {},
     "output_type": "execute_result"
    }
   ],
   "source": [
    "likelihood = densities.prod(axis=2)\n",
    "likelihood.shape"
   ]
  },
  {
   "cell_type": "code",
   "execution_count": 26,
   "id": "7f68f7fa-07c4-4b08-8bce-e42fcf0ce40c",
   "metadata": {},
   "outputs": [],
   "source": [
    "def update_norm(prior, data):\n",
    "    \"\"\"Update the prior based on data.\"\"\"\n",
    "    mu_mesh, sigma_mesh, data_mesh = np.meshgrid(prior.columns, prior.index, data)\n",
    "    \n",
    "    densities = norm(mu_mesh, sigma_mesh).pdf(data_mesh)\n",
    "    likelihood = densities.prod(axis=2)\n",
    "    \n",
    "    posterior = prior * likelihood\n",
    "    normalize(posterior)\n",
    "\n",
    "    return posterior"
   ]
  },
  {
   "cell_type": "code",
   "execution_count": 27,
   "id": "278f6e82-6c21-45c2-9b65-24281dce69d8",
   "metadata": {},
   "outputs": [],
   "source": [
    "data = responses['Control']\n",
    "posterior_control = update_norm(prior, data)"
   ]
  },
  {
   "cell_type": "code",
   "execution_count": 28,
   "id": "727c6c7a-d94c-4af5-bc33-76106bb61321",
   "metadata": {},
   "outputs": [],
   "source": [
    "data = responses['Treated']\n",
    "posterior_treated = update_norm(prior, data)"
   ]
  },
  {
   "cell_type": "code",
   "execution_count": 29,
   "id": "23a5f79c-c7bc-472e-a214-da4d37de252e",
   "metadata": {},
   "outputs": [
    {
     "data": {
      "image/png": "[encoded data removed]",
      "text/plain": [
       "<Figure size 432x288 with 1 Axes>"
      ]
     },
     "metadata": {
      "needs_background": "light"
     },
     "output_type": "display_data"
    }
   ],
   "source": [
    "plot_contour(posterior_control, cmap='Blues')\n",
    "plt.text(49.5, 18, 'Control', color='C0')\n",
    "\n",
    "cs = plot_contour(posterior_treated, cmap='Oranges')\n",
    "plt.text(57, 12, 'Treated', color='C1')\n",
    "\n",
    "decorate(xlabel='Mean (mu)', \n",
    "         ylabel='Standard deviation (sigma)',\n",
    "         title='Joint posterior distributions of mu and sigma')"
   ]
  },
  {
   "cell_type": "markdown",
   "id": "0179497a-5d49-4102-a164-421438862afc",
   "metadata": {},
   "source": [
    "## Posterior Marginal Distributions"
   ]
  },
  {
   "cell_type": "code",
   "execution_count": 30,
   "id": "757fae19-6062-4549-9848-4cedb02e3c60",
   "metadata": {},
   "outputs": [],
   "source": [
    "pmf_mean_control = marginal(posterior_control, 0)\n",
    "pmf_mean_treated = marginal(posterior_treated, 0)"
   ]
  },
  {
   "cell_type": "code",
   "execution_count": 31,
   "id": "89ea8308-7fed-4a6d-a2f1-2d1e62183180",
   "metadata": {},
   "outputs": [
    {
     "data": {
      "image/png": "[encoded data removed]",
      "text/plain": [
       "<Figure size 432x288 with 1 Axes>"
      ]
     },
     "metadata": {
      "needs_background": "light"
     },
     "output_type": "display_data"
    }
   ],
   "source": [
    "pmf_mean_control.plot(label='Control')\n",
    "pmf_mean_treated.plot(label='Treated')\n",
    "\n",
    "decorate(xlabel='Population mean (mu)', \n",
    "         ylabel='PDF', \n",
    "         title='Posterior distributions of mu')"
   ]
  },
  {
   "cell_type": "code",
   "execution_count": 32,
   "id": "032e9733-2d62-4165-94eb-0e2078d390fe",
   "metadata": {},
   "outputs": [
    {
     "data": {
      "text/plain": [
       "0.9804790251873259"
      ]
     },
     "execution_count": 32,
     "metadata": {},
     "output_type": "execute_result"
    }
   ],
   "source": [
    "Pmf.prob_gt(pmf_mean_treated, pmf_mean_control)"
   ]
  },
  {
   "cell_type": "markdown",
   "id": "9baf6678-5d9b-4187-8ccf-c66075cbe59b",
   "metadata": {},
   "source": [
    "There is a 98% chance that the mean in the treated group is higher."
   ]
  },
  {
   "cell_type": "code",
   "execution_count": 129,
   "id": "aa2bcc89-f6a8-4da3-a7b6-313d10abac65",
   "metadata": {},
   "outputs": [],
   "source": [
    "pmf_std_control = marginal(posterior_control, 1)\n",
    "pmf_std_treated = marginal(posterior_treated, 1)"
   ]
  },
  {
   "cell_type": "code",
   "execution_count": 130,
   "id": "5213f203-a303-4e70-9223-a881ced595fc",
   "metadata": {},
   "outputs": [
    {
     "data": {
      "image/png": "[encoded data removed]",
      "text/plain": [
       "<Figure size 432x288 with 1 Axes>"
      ]
     },
     "metadata": {
      "needs_background": "light"
     },
     "output_type": "display_data"
    }
   ],
   "source": [
    "pmf_std_control.plot(label='Control')\n",
    "pmf_std_treated.plot(label='Treated')\n",
    "\n",
    "decorate(xlabel='Population standard deviation', \n",
    "         ylabel='PDF', \n",
    "         title='Posterior distributions of sigma')"
   ]
  },
  {
   "cell_type": "code",
   "execution_count": 131,
   "id": "9c1a4c82-f1fa-4657-a681-46cc1af055e5",
   "metadata": {},
   "outputs": [
    {
     "data": {
      "text/plain": [
       "0.9685103375300469"
      ]
     },
     "execution_count": 131,
     "metadata": {},
     "output_type": "execute_result"
    }
   ],
   "source": [
    "Pmf.prob_gt(pmf_std_control, pmf_std_treated)"
   ]
  },
  {
   "cell_type": "markdown",
   "id": "37963e43-370d-4feb-b818-b0a7c37d0983",
   "metadata": {},
   "source": [
    "## Distribution of Differences"
   ]
  },
  {
   "cell_type": "code",
   "execution_count": 33,
   "id": "bebc91d1-cfe1-499b-8af8-52c4050731f3",
   "metadata": {},
   "outputs": [],
   "source": [
    "pmf_diff = Pmf.sub_dist(pmf_mean_treated, pmf_mean_control)"
   ]
  },
  {
   "cell_type": "code",
   "execution_count": 34,
   "id": "716ffa30-67aa-4567-8d51-b70f257733d1",
   "metadata": {},
   "outputs": [
    {
     "data": {
      "text/plain": [
       "(101, 101, 879)"
      ]
     },
     "execution_count": 34,
     "metadata": {},
     "output_type": "execute_result"
    }
   ],
   "source": [
    "len(pmf_mean_treated), len(pmf_mean_control), len(pmf_diff)"
   ]
  },
  {
   "cell_type": "code",
   "execution_count": 35,
   "id": "58c3efdb-bb3e-412d-abb3-bbfa4cf90391",
   "metadata": {},
   "outputs": [
    {
     "data": {
      "image/png": "[encoded data removed]",
      "text/plain": [
       "<Figure size 432x288 with 1 Axes>"
      ]
     },
     "metadata": {
      "needs_background": "light"
     },
     "output_type": "display_data"
    }
   ],
   "source": [
    "pmf_diff.plot()\n",
    "\n",
    "decorate(xlabel='Difference in population means', \n",
    "         ylabel='PDF', \n",
    "         title='Posterior distribution of difference in mu')"
   ]
  },
  {
   "cell_type": "code",
   "execution_count": 36,
   "id": "3d14b3d9-e49a-4a6e-9864-b003878bd35a",
   "metadata": {},
   "outputs": [],
   "source": [
    "cdf_diff = pmf_diff.make_cdf()"
   ]
  },
  {
   "cell_type": "code",
   "execution_count": 37,
   "id": "4f8e7cad-f992-4901-b134-66bac9e4bde9",
   "metadata": {},
   "outputs": [
    {
     "data": {
      "image/png": "[encoded data removed]",
      "text/plain": [
       "<Figure size 432x288 with 1 Axes>"
      ]
     },
     "metadata": {
      "needs_background": "light"
     },
     "output_type": "display_data"
    }
   ],
   "source": [
    "cdf_diff.plot()\n",
    "\n",
    "decorate(xlabel='Difference in population means', \n",
    "         ylabel='CDF', \n",
    "         title='Posterior distribution of difference in mu')"
   ]
  },
  {
   "cell_type": "code",
   "execution_count": 38,
   "id": "d7c3de61-a740-4191-ab8a-c78fdec39c53",
   "metadata": {},
   "outputs": [],
   "source": [
    "def kde_from_pmf(pmf, n=101):\n",
    "    \"\"\"Make a kernel density estimate for a PMF.\"\"\"\n",
    "    kde = gaussian_kde(pmf.qs, weights=pmf.ps)\n",
    "    qs = np.linspace(pmf.qs.min(), pmf.qs.max(), n)\n",
    "    ps = kde.evaluate(qs)\n",
    "    pmf = Pmf(ps, qs)\n",
    "    pmf.normalize()\n",
    "    return pmf"
   ]
  },
  {
   "cell_type": "code",
   "execution_count": 39,
   "id": "17b4318b-b8eb-4fb5-a840-cfa7129473a6",
   "metadata": {},
   "outputs": [],
   "source": [
    "kde_diff = kde_from_pmf(pmf_diff)"
   ]
  },
  {
   "cell_type": "code",
   "execution_count": 40,
   "id": "3264ffa5-9f96-4811-8525-2efe174e5819",
   "metadata": {},
   "outputs": [
    {
     "data": {
      "image/png": "[encoded data removed]",
      "text/plain": [
       "<Figure size 432x288 with 1 Axes>"
      ]
     },
     "metadata": {
      "needs_background": "light"
     },
     "output_type": "display_data"
    }
   ],
   "source": [
    "kde_diff.plot()\n",
    "\n",
    "decorate(xlabel='Difference in means', \n",
    "         ylabel='PDF', \n",
    "         title='Posterior distribution of difference in mu')"
   ]
  },
  {
   "cell_type": "code",
   "execution_count": 41,
   "id": "9495d60e-d9a7-4480-aa08-3356c4bb0242",
   "metadata": {},
   "outputs": [
    {
     "data": {
      "text/plain": [
       "9.954413088940848"
      ]
     },
     "execution_count": 41,
     "metadata": {},
     "output_type": "execute_result"
    }
   ],
   "source": [
    "pmf_diff.mean()"
   ]
  },
  {
   "cell_type": "code",
   "execution_count": 42,
   "id": "c38c29a9-5231-4fcd-9cc4-1370a0d001df",
   "metadata": {},
   "outputs": [
    {
     "data": {
      "text/plain": [
       "array([ 2.4, 17.4])"
      ]
     },
     "execution_count": 42,
     "metadata": {},
     "output_type": "execute_result"
    }
   ],
   "source": [
    "pmf_diff.credible_interval(0.9)"
   ]
  },
  {
   "cell_type": "markdown",
   "id": "87fdc8d1-43bc-46c7-bd8d-ed195fbe04fe",
   "metadata": {},
   "source": [
    "Based on this interval, we are pretty sure the treatment improves test scores by 2 to 17 points."
   ]
  },
  {
   "cell_type": "code",
   "execution_count": 132,
   "id": "3a2c0a94-8af1-4b6d-a64c-aa0551dd178b",
   "metadata": {},
   "outputs": [],
   "source": [
    "pmf_diff2 = Pmf.sub_dist(pmf_std_control, pmf_std_treated)"
   ]
  },
  {
   "cell_type": "code",
   "execution_count": 133,
   "id": "24d30485-ac8d-4aca-8ad1-6ecd604c62e3",
   "metadata": {},
   "outputs": [
    {
     "data": {
      "text/plain": [
       "6.41717132817218"
      ]
     },
     "execution_count": 133,
     "metadata": {},
     "output_type": "execute_result"
    }
   ],
   "source": [
    "pmf_diff2.mean()"
   ]
  },
  {
   "cell_type": "code",
   "execution_count": 134,
   "id": "35f1c529-3d22-4f36-9894-8b9d4d2f6cc9",
   "metadata": {},
   "outputs": [
    {
     "data": {
      "text/plain": [
       "array([ 1. , 12.5])"
      ]
     },
     "execution_count": 134,
     "metadata": {},
     "output_type": "execute_result"
    }
   ],
   "source": [
    "pmf_diff2.credible_interval(0.9)"
   ]
  },
  {
   "cell_type": "code",
   "execution_count": 135,
   "id": "e5c9d097-0194-4248-8099-a8e5f71abe5d",
   "metadata": {},
   "outputs": [
    {
     "data": {
      "image/png": "[encoded data removed]",
      "text/plain": [
       "<Figure size 432x288 with 1 Axes>"
      ]
     },
     "metadata": {
      "needs_background": "light"
     },
     "output_type": "display_data"
    }
   ],
   "source": [
    "kde_from_pmf(pmf_diff2).plot()\n",
    "\n",
    "decorate(xlabel='Difference in population standard deviation', \n",
    "         ylabel='PDF', \n",
    "         title='Posterior distributions of difference in sigma')"
   ]
  },
  {
   "cell_type": "markdown",
   "id": "d7180fa2-d00c-476e-b11f-9a73d3a8d35b",
   "metadata": {},
   "source": [
    "Based on this interval, we are pretty sure the treatment improves test scores by 2 to 17 points."
   ]
  },
  {
   "cell_type": "markdown",
   "id": "0676e5ed-6ca2-4675-aa4f-97fd7bf6f741",
   "metadata": {},
   "source": [
    "## Using Summary Statistics\n",
    "\n",
    "In this example the dataset is not very big, so it doesn’t take too long to compute the probability of every score under every hypothesis. But the result is a 3-D array; for larger datasets, it might be too big to compute practically.\n",
    "\n",
    "Also, with larger datasets the likelihoods get very small, sometimes so small that we can’t compute them with floating-point arithmetic. That’s because we are computing the probability of a particular dataset; the number of possible datasets is astronomically big, so the probability of any of them is very small.\n",
    "\n",
    "An alternative is to compute a summary of the dataset and compute the likelihood of the summary. For example, if we compute the mean and standard deviation of the data, we can compute the likelihood of those summary statistics under each hypothesis.\n",
    "\n",
    "Suppose we know that the actual mean of the population, $\\mu$,  is 42 and the actual standard deviation, $\\sigma$, is 17."
   ]
  },
  {
   "cell_type": "code",
   "execution_count": 43,
   "id": "c5f36a6f-10ab-4099-ae3a-967388fc58d2",
   "metadata": {},
   "outputs": [],
   "source": [
    "mu = 42\n",
    "sigma = 17"
   ]
  },
  {
   "cell_type": "markdown",
   "id": "22208b3e-f61e-45e2-8f4a-c43fe97d574f",
   "metadata": {},
   "source": [
    "Suppose we draw a sample from this distribution with sample size `n=20`, and compute the mean of the sample, which we call `m`, and the standard deviation of the sample, which we call `s`."
   ]
  },
  {
   "cell_type": "code",
   "execution_count": 44,
   "id": "adf395f4-c602-405c-8b28-141f62e8306e",
   "metadata": {},
   "outputs": [],
   "source": [
    "n = 20\n",
    "m = 41\n",
    "s = 18"
   ]
  },
  {
   "cell_type": "markdown",
   "id": "87c1f2e6-0d69-40b0-98bb-496c96bd0a80",
   "metadata": {},
   "source": [
    "\n",
    "* Given $\\mu$ and $\\sigma$, the distribution of `m` is normal with parameters $\\mu$ and $\\sigma/\\sqrt{n}$;\n",
    "\n",
    "* The distribution of $s$ is more complicated, but if we compute the transform $t = n s^2 / \\sigma^2$, the distribution of $t$ is chi-squared with parameter $n-1$; and\n",
    "\n",
    "* According to [Basu's theorem](https://en.wikipedia.org/wiki/Basu%27s_theorem), `m` and `s` are independent."
   ]
  },
  {
   "cell_type": "code",
   "execution_count": 45,
   "id": "b45547ab-95c5-41b0-8987-0c5da2199cda",
   "metadata": {},
   "outputs": [],
   "source": [
    "dist_m = norm(mu, sigma / np.sqrt(n))"
   ]
  },
  {
   "cell_type": "code",
   "execution_count": 46,
   "id": "5175f87f-eddc-48e1-b39a-47af2bdc8768",
   "metadata": {},
   "outputs": [
    {
     "data": {
      "text/plain": [
       "0.10137915138497372"
      ]
     },
     "execution_count": 46,
     "metadata": {},
     "output_type": "execute_result"
    }
   ],
   "source": [
    "like1 = dist_m.pdf(m)\n",
    "like1"
   ]
  },
  {
   "cell_type": "code",
   "execution_count": 47,
   "id": "33eb541e-08be-4507-ba9e-e097fc76278e",
   "metadata": {},
   "outputs": [
    {
     "data": {
      "text/plain": [
       "22.422145328719722"
      ]
     },
     "execution_count": 47,
     "metadata": {},
     "output_type": "execute_result"
    }
   ],
   "source": [
    "t = n * s**2 / sigma**2\n",
    "t"
   ]
  },
  {
   "cell_type": "code",
   "execution_count": 48,
   "id": "2e5c9181-3e70-47e6-b0be-9d2cc0ed21a3",
   "metadata": {},
   "outputs": [],
   "source": [
    "dist_s = chi2(n-1)"
   ]
  },
  {
   "cell_type": "code",
   "execution_count": 49,
   "id": "981bb81b-ea53-4492-9cc7-f1123a1da533",
   "metadata": {},
   "outputs": [
    {
     "data": {
      "text/plain": [
       "0.04736427909437004"
      ]
     },
     "execution_count": 49,
     "metadata": {},
     "output_type": "execute_result"
    }
   ],
   "source": [
    "like2 = dist_s.pdf(t)\n",
    "like2"
   ]
  },
  {
   "cell_type": "code",
   "execution_count": 50,
   "id": "6f2cad99-9c23-4dba-af04-701988a30333",
   "metadata": {},
   "outputs": [
    {
     "data": {
      "text/plain": [
       "0.004801750420548287"
      ]
     },
     "execution_count": 50,
     "metadata": {},
     "output_type": "execute_result"
    }
   ],
   "source": [
    "like = like1 * like2\n",
    "like"
   ]
  },
  {
   "cell_type": "markdown",
   "id": "c9d82e56-5526-4e45-a243-36eea4236a68",
   "metadata": {},
   "source": [
    "## Update with Summary Statistics"
   ]
  },
  {
   "cell_type": "code",
   "execution_count": 51,
   "id": "b97369e3-d24a-47c5-8f3b-ff4b19917951",
   "metadata": {},
   "outputs": [
    {
     "data": {
      "text/plain": [
       "{'Control': (23, 41.52173913043478, 17.148733229699484),\n",
       " 'Treated': (21, 51.476190476190474, 11.00735684721381)}"
      ]
     },
     "execution_count": 51,
     "metadata": {},
     "output_type": "execute_result"
    }
   ],
   "source": [
    "summary = {}\n",
    "\n",
    "for name, response in responses.items():\n",
    "    summary[name] = len(response), response.mean(), response.std()\n",
    "    \n",
    "summary"
   ]
  },
  {
   "cell_type": "code",
   "execution_count": 52,
   "id": "626e604c-3822-4dda-a499-5e37661c7e38",
   "metadata": {},
   "outputs": [],
   "source": [
    "n, m, s = summary['Control']"
   ]
  },
  {
   "cell_type": "code",
   "execution_count": 81,
   "id": "b7cfebf1-5914-4e02-b359-b6eae2b37d80",
   "metadata": {},
   "outputs": [
    {
     "data": {
      "text/html": [
       "<div>\n",
       "<style scoped>\n",
       "    .dataframe tbody tr th:only-of-type {\n",
       "        vertical-align: middle;\n",
       "    }\n",
       "\n",
       "    .dataframe tbody tr th {\n",
       "        vertical-align: top;\n",
       "    }\n",
       "\n",
       "    .dataframe thead th {\n",
       "        text-align: right;\n",
       "    }\n",
       "</style>\n",
       "<table border=\"1\" class=\"dataframe\">\n",
       "  <thead>\n",
       "    <tr style=\"text-align: right;\">\n",
       "      <th>mean</th>\n",
       "      <th>20.0</th>\n",
       "      <th>20.6</th>\n",
       "      <th>21.2</th>\n",
       "      <th>21.8</th>\n",
       "      <th>22.4</th>\n",
       "      <th>23.0</th>\n",
       "      <th>23.6</th>\n",
       "      <th>24.2</th>\n",
       "      <th>24.8</th>\n",
       "      <th>25.4</th>\n",
       "      <th>...</th>\n",
       "      <th>74.6</th>\n",
       "      <th>75.2</th>\n",
       "      <th>75.8</th>\n",
       "      <th>76.4</th>\n",
       "      <th>77.0</th>\n",
       "      <th>77.6</th>\n",
       "      <th>78.2</th>\n",
       "      <th>78.8</th>\n",
       "      <th>79.4</th>\n",
       "      <th>80.0</th>\n",
       "    </tr>\n",
       "    <tr>\n",
       "      <th>std</th>\n",
       "      <th></th>\n",
       "      <th></th>\n",
       "      <th></th>\n",
       "      <th></th>\n",
       "      <th></th>\n",
       "      <th></th>\n",
       "      <th></th>\n",
       "      <th></th>\n",
       "      <th></th>\n",
       "      <th></th>\n",
       "      <th></th>\n",
       "      <th></th>\n",
       "      <th></th>\n",
       "      <th></th>\n",
       "      <th></th>\n",
       "      <th></th>\n",
       "      <th></th>\n",
       "      <th></th>\n",
       "      <th></th>\n",
       "      <th></th>\n",
       "      <th></th>\n",
       "    </tr>\n",
       "  </thead>\n",
       "  <tbody>\n",
       "    <tr>\n",
       "      <th>5.00</th>\n",
       "      <td>0.000098</td>\n",
       "      <td>0.000098</td>\n",
       "      <td>0.000098</td>\n",
       "      <td>0.000098</td>\n",
       "      <td>0.000098</td>\n",
       "      <td>0.000098</td>\n",
       "      <td>0.000098</td>\n",
       "      <td>0.000098</td>\n",
       "      <td>0.000098</td>\n",
       "      <td>0.000098</td>\n",
       "      <td>...</td>\n",
       "      <td>0.000098</td>\n",
       "      <td>0.000098</td>\n",
       "      <td>0.000098</td>\n",
       "      <td>0.000098</td>\n",
       "      <td>0.000098</td>\n",
       "      <td>0.000098</td>\n",
       "      <td>0.000098</td>\n",
       "      <td>0.000098</td>\n",
       "      <td>0.000098</td>\n",
       "      <td>0.000098</td>\n",
       "    </tr>\n",
       "    <tr>\n",
       "      <th>5.25</th>\n",
       "      <td>0.000098</td>\n",
       "      <td>0.000098</td>\n",
       "      <td>0.000098</td>\n",
       "      <td>0.000098</td>\n",
       "      <td>0.000098</td>\n",
       "      <td>0.000098</td>\n",
       "      <td>0.000098</td>\n",
       "      <td>0.000098</td>\n",
       "      <td>0.000098</td>\n",
       "      <td>0.000098</td>\n",
       "      <td>...</td>\n",
       "      <td>0.000098</td>\n",
       "      <td>0.000098</td>\n",
       "      <td>0.000098</td>\n",
       "      <td>0.000098</td>\n",
       "      <td>0.000098</td>\n",
       "      <td>0.000098</td>\n",
       "      <td>0.000098</td>\n",
       "      <td>0.000098</td>\n",
       "      <td>0.000098</td>\n",
       "      <td>0.000098</td>\n",
       "    </tr>\n",
       "    <tr>\n",
       "      <th>5.50</th>\n",
       "      <td>0.000098</td>\n",
       "      <td>0.000098</td>\n",
       "      <td>0.000098</td>\n",
       "      <td>0.000098</td>\n",
       "      <td>0.000098</td>\n",
       "      <td>0.000098</td>\n",
       "      <td>0.000098</td>\n",
       "      <td>0.000098</td>\n",
       "      <td>0.000098</td>\n",
       "      <td>0.000098</td>\n",
       "      <td>...</td>\n",
       "      <td>0.000098</td>\n",
       "      <td>0.000098</td>\n",
       "      <td>0.000098</td>\n",
       "      <td>0.000098</td>\n",
       "      <td>0.000098</td>\n",
       "      <td>0.000098</td>\n",
       "      <td>0.000098</td>\n",
       "      <td>0.000098</td>\n",
       "      <td>0.000098</td>\n",
       "      <td>0.000098</td>\n",
       "    </tr>\n",
       "    <tr>\n",
       "      <th>5.75</th>\n",
       "      <td>0.000098</td>\n",
       "      <td>0.000098</td>\n",
       "      <td>0.000098</td>\n",
       "      <td>0.000098</td>\n",
       "      <td>0.000098</td>\n",
       "      <td>0.000098</td>\n",
       "      <td>0.000098</td>\n",
       "      <td>0.000098</td>\n",
       "      <td>0.000098</td>\n",
       "      <td>0.000098</td>\n",
       "      <td>...</td>\n",
       "      <td>0.000098</td>\n",
       "      <td>0.000098</td>\n",
       "      <td>0.000098</td>\n",
       "      <td>0.000098</td>\n",
       "      <td>0.000098</td>\n",
       "      <td>0.000098</td>\n",
       "      <td>0.000098</td>\n",
       "      <td>0.000098</td>\n",
       "      <td>0.000098</td>\n",
       "      <td>0.000098</td>\n",
       "    </tr>\n",
       "    <tr>\n",
       "      <th>6.00</th>\n",
       "      <td>0.000098</td>\n",
       "      <td>0.000098</td>\n",
       "      <td>0.000098</td>\n",
       "      <td>0.000098</td>\n",
       "      <td>0.000098</td>\n",
       "      <td>0.000098</td>\n",
       "      <td>0.000098</td>\n",
       "      <td>0.000098</td>\n",
       "      <td>0.000098</td>\n",
       "      <td>0.000098</td>\n",
       "      <td>...</td>\n",
       "      <td>0.000098</td>\n",
       "      <td>0.000098</td>\n",
       "      <td>0.000098</td>\n",
       "      <td>0.000098</td>\n",
       "      <td>0.000098</td>\n",
       "      <td>0.000098</td>\n",
       "      <td>0.000098</td>\n",
       "      <td>0.000098</td>\n",
       "      <td>0.000098</td>\n",
       "      <td>0.000098</td>\n",
       "    </tr>\n",
       "  </tbody>\n",
       "</table>\n",
       "<p>5 rows × 101 columns</p>\n",
       "</div>"
      ],
      "text/plain": [
       "mean      20.0      20.6      21.2      21.8      22.4      23.0      23.6  \\\n",
       "std                                                                          \n",
       "5.00  0.000098  0.000098  0.000098  0.000098  0.000098  0.000098  0.000098   \n",
       "5.25  0.000098  0.000098  0.000098  0.000098  0.000098  0.000098  0.000098   \n",
       "5.50  0.000098  0.000098  0.000098  0.000098  0.000098  0.000098  0.000098   \n",
       "5.75  0.000098  0.000098  0.000098  0.000098  0.000098  0.000098  0.000098   \n",
       "6.00  0.000098  0.000098  0.000098  0.000098  0.000098  0.000098  0.000098   \n",
       "\n",
       "mean      24.2      24.8      25.4  ...      74.6      75.2      75.8  \\\n",
       "std                                 ...                                 \n",
       "5.00  0.000098  0.000098  0.000098  ...  0.000098  0.000098  0.000098   \n",
       "5.25  0.000098  0.000098  0.000098  ...  0.000098  0.000098  0.000098   \n",
       "5.50  0.000098  0.000098  0.000098  ...  0.000098  0.000098  0.000098   \n",
       "5.75  0.000098  0.000098  0.000098  ...  0.000098  0.000098  0.000098   \n",
       "6.00  0.000098  0.000098  0.000098  ...  0.000098  0.000098  0.000098   \n",
       "\n",
       "mean      76.4      77.0      77.6      78.2      78.8      79.4      80.0  \n",
       "std                                                                         \n",
       "5.00  0.000098  0.000098  0.000098  0.000098  0.000098  0.000098  0.000098  \n",
       "5.25  0.000098  0.000098  0.000098  0.000098  0.000098  0.000098  0.000098  \n",
       "5.50  0.000098  0.000098  0.000098  0.000098  0.000098  0.000098  0.000098  \n",
       "5.75  0.000098  0.000098  0.000098  0.000098  0.000098  0.000098  0.000098  \n",
       "6.00  0.000098  0.000098  0.000098  0.000098  0.000098  0.000098  0.000098  \n",
       "\n",
       "[5 rows x 101 columns]"
      ]
     },
     "execution_count": 81,
     "metadata": {},
     "output_type": "execute_result"
    }
   ],
   "source": [
    "prior.head()"
   ]
  },
  {
   "cell_type": "code",
   "execution_count": 54,
   "id": "7768d7d2-f87c-495a-9f6f-2b59bd8b532c",
   "metadata": {},
   "outputs": [
    {
     "data": {
      "text/plain": [
       "(101, 101)"
      ]
     },
     "execution_count": 54,
     "metadata": {},
     "output_type": "execute_result"
    }
   ],
   "source": [
    "mus, sigmas = np.meshgrid(prior.columns, prior.index)\n",
    "mus.shape"
   ]
  },
  {
   "cell_type": "code",
   "execution_count": 55,
   "id": "6ef80baa-6f2f-4dae-abab-580c4a52ed22",
   "metadata": {},
   "outputs": [
    {
     "data": {
      "text/plain": [
       "(101, 101)"
      ]
     },
     "execution_count": 55,
     "metadata": {},
     "output_type": "execute_result"
    }
   ],
   "source": [
    "like1 = norm(mus, sigmas/np.sqrt(n)).pdf(m)\n",
    "like1.shape"
   ]
  },
  {
   "cell_type": "code",
   "execution_count": 56,
   "id": "5e2fe073-dfe9-4ddc-a59f-32d959d2739a",
   "metadata": {},
   "outputs": [
    {
     "data": {
      "text/plain": [
       "(101, 101)"
      ]
     },
     "execution_count": 56,
     "metadata": {},
     "output_type": "execute_result"
    }
   ],
   "source": [
    "ts = n * s**2 / sigmas**2\n",
    "like2 = chi2(n-1).pdf(ts)\n",
    "like2.shape"
   ]
  },
  {
   "cell_type": "code",
   "execution_count": 57,
   "id": "879caa5e-f05d-4e7d-9452-b9ea7394185b",
   "metadata": {},
   "outputs": [
    {
     "data": {
      "text/plain": [
       "0.00030965351017402847"
      ]
     },
     "execution_count": 57,
     "metadata": {},
     "output_type": "execute_result"
    }
   ],
   "source": [
    "posterior_control2 = prior * like1 * like2\n",
    "normalize(posterior_control2)"
   ]
  },
  {
   "cell_type": "code",
   "execution_count": 58,
   "id": "9240e2ee-08c9-4655-a190-b904fba927ca",
   "metadata": {},
   "outputs": [],
   "source": [
    "def update_norm_summary(prior, data):\n",
    "    \"\"\"Update a normal distribution using summary statistics.\"\"\"\n",
    "    n, m, s = data\n",
    "    mu_mesh, sigma_mesh = np.meshgrid(prior.columns, prior.index)\n",
    "    \n",
    "    like1 = norm(mu_mesh, sigma_mesh/np.sqrt(n)).pdf(m)\n",
    "    like2 = chi2(n-1).pdf(n * s**2 / sigma_mesh**2)\n",
    "    \n",
    "    posterior = prior * like1 * like2\n",
    "    normalize(posterior)\n",
    "    \n",
    "    return posterior"
   ]
  },
  {
   "cell_type": "code",
   "execution_count": 59,
   "id": "18068cc7-855b-4868-90c4-e2a766db999f",
   "metadata": {},
   "outputs": [],
   "source": [
    "data = summary['Treated']\n",
    "posterior_treated2 = update_norm_summary(prior, data)"
   ]
  },
  {
   "cell_type": "code",
   "execution_count": 60,
   "id": "51610c26-af0b-4d77-a6fb-53a9fb5d63ea",
   "metadata": {},
   "outputs": [
    {
     "data": {
      "image/png": "[encoded data removed]",
      "text/plain": [
       "<Figure size 432x288 with 1 Axes>"
      ]
     },
     "metadata": {
      "needs_background": "light"
     },
     "output_type": "display_data"
    }
   ],
   "source": [
    "plot_contour(posterior_control2, cmap='Blues')\n",
    "plt.text(49.5, 18, 'Control', color='C0')\n",
    "\n",
    "cs = plot_contour(posterior_treated2, cmap='Oranges')\n",
    "plt.text(57, 12, 'Treated', color='C1')\n",
    "\n",
    "decorate(xlabel='Mean (mu)', \n",
    "         ylabel='Standard deviation (sigma)',\n",
    "         title='Joint posterior distributions of mu and sigma')"
   ]
  },
  {
   "cell_type": "markdown",
   "id": "4b8027ce-b7f2-456e-8d4e-e3e8351f582c",
   "metadata": {},
   "source": [
    "## Comparing Marginals"
   ]
  },
  {
   "cell_type": "code",
   "execution_count": 61,
   "id": "e9850e7c-f84b-4797-a40a-13c2666916aa",
   "metadata": {},
   "outputs": [],
   "source": [
    "pmf_mean_control2 = marginal(posterior_control2, 0)\n",
    "pmf_mean_treated2 = marginal(posterior_treated2, 0)"
   ]
  },
  {
   "cell_type": "code",
   "execution_count": 62,
   "id": "3ae9519a-6899-47ea-80e2-40528a940e70",
   "metadata": {},
   "outputs": [
    {
     "data": {
      "image/png": "[encoded data removed]",
      "text/plain": [
       "<Figure size 432x288 with 1 Axes>"
      ]
     },
     "metadata": {
      "needs_background": "light"
     },
     "output_type": "display_data"
    }
   ],
   "source": [
    "pmf_mean_control.plot(color='C5', linestyle='dashed')\n",
    "pmf_mean_control2.plot(label='Control')\n",
    "pmf_mean_treated.plot(color='C5', linestyle='dashed')\n",
    "pmf_mean_treated2.plot(label='Treated')\n",
    "\n",
    "decorate(xlabel='Population mean', \n",
    "         ylabel='PDF', \n",
    "         title='Posterior distributions of mu')"
   ]
  },
  {
   "cell_type": "markdown",
   "id": "a2f12bf0-f8fd-47d9-ac59-b82f51e82deb",
   "metadata": {},
   "source": [
    "The posterior distributions based on summary statistics are similar to the posteriors we computed using the entire dataset, but in both cases they are shorter and a little wider.\n",
    "\n",
    "That’s because the update with summary statistics is based on the implicit assumption that the distribution of the data is normal. But it’s not; as a result, when we replace the dataset with the summary statistics, we lose some information about the true distribution of the data. With less information, we are less certain about the parameters."
   ]
  },
  {
   "cell_type": "markdown",
   "id": "e73d6439-3360-4f78-b09c-59647d9c78ca",
   "metadata": {},
   "source": [
    "## Proof By Simulation\n",
    "The update with summary statistics is based on theoretical distributions, and it seems to work, but I think it is useful to test theories like this, for a few reasons:\n",
    "\n",
    "* It confirms that our understanding of the theory is correct,\n",
    "\n",
    "* It confirms that the conditions where we apply the theory are conditions where the theory holds,\n",
    "\n",
    "* It confirms that the implementation details are correct. For many distributions, there is more than one way to specify the parameters. If you use the wrong specification, this kind of testing will help you catch the error.\n",
    "\n",
    "In this section I’ll use simulations to show that the distribution of the sample mean and standard deviation is as I claimed. But if you want to take my word for it, you can skip this section and the next."
   ]
  },
  {
   "cell_type": "code",
   "execution_count": 63,
   "id": "3342f7fd-76a8-417b-b118-9216da80af99",
   "metadata": {},
   "outputs": [],
   "source": [
    "mu = 42\n",
    "sigma = 17"
   ]
  },
  {
   "cell_type": "code",
   "execution_count": 64,
   "id": "bda1238e-2cee-4a20-8d12-185de7a113a6",
   "metadata": {},
   "outputs": [],
   "source": [
    "dist = norm(mu, sigma)"
   ]
  },
  {
   "cell_type": "code",
   "execution_count": 65,
   "id": "4d734c79-9768-4a24-83de-7189f8439b10",
   "metadata": {},
   "outputs": [
    {
     "data": {
      "text/plain": [
       "(1000, 20)"
      ]
     },
     "execution_count": 65,
     "metadata": {},
     "output_type": "execute_result"
    }
   ],
   "source": [
    "n = 20\n",
    "samples = dist.rvs((1000, n))\n",
    "samples.shape"
   ]
  },
  {
   "cell_type": "code",
   "execution_count": 66,
   "id": "36564d25-fed1-4535-a7af-111f695fc153",
   "metadata": {},
   "outputs": [
    {
     "data": {
      "text/plain": [
       "(1000,)"
      ]
     },
     "execution_count": 66,
     "metadata": {},
     "output_type": "execute_result"
    }
   ],
   "source": [
    "sample_means = samples.mean(axis=1)\n",
    "sample_means.shape"
   ]
  },
  {
   "cell_type": "code",
   "execution_count": 67,
   "id": "9ebddeee-e8f6-4e0b-8dea-7fd1ca19cc3c",
   "metadata": {},
   "outputs": [],
   "source": [
    "def pmf_from_dist(dist, low, high):\n",
    "    \"\"\"Make a discrete approximation of a continuous distribution.\n",
    "    \n",
    "    dist: SciPy dist object\n",
    "    low: low end of range\n",
    "    high: high end of range\n",
    "    \n",
    "    returns: normalized Pmf\n",
    "    \"\"\"\n",
    "    qs = np.linspace(low, high, 101)\n",
    "    ps = dist.pdf(qs)\n",
    "    pmf = Pmf(ps, qs)\n",
    "    pmf.normalize()\n",
    "    return pmf"
   ]
  },
  {
   "cell_type": "code",
   "execution_count": 68,
   "id": "23547fb0-2255-447d-8f06-d33d00a1d3a9",
   "metadata": {},
   "outputs": [],
   "source": [
    "low = dist_m.mean() - dist_m.std() * 3\n",
    "high = dist_m.mean() + dist_m.std() * 3\n",
    "\n",
    "pmf_m = pmf_from_dist(dist_m, low, high)"
   ]
  },
  {
   "cell_type": "code",
   "execution_count": 69,
   "id": "351ab839-b791-45a9-ba39-cb713ea6d03a",
   "metadata": {},
   "outputs": [],
   "source": [
    "qs = pmf_m.qs\n",
    "pmf_sample_means = kde_from_sample(sample_means, qs)"
   ]
  },
  {
   "cell_type": "code",
   "execution_count": 70,
   "id": "927e1208-551b-4e31-871a-047b743a7669",
   "metadata": {},
   "outputs": [
    {
     "data": {
      "image/png": "[encoded data removed]",
      "text/plain": [
       "<Figure size 432x288 with 1 Axes>"
      ]
     },
     "metadata": {
      "needs_background": "light"
     },
     "output_type": "display_data"
    }
   ],
   "source": [
    "pmf_m.plot(label='Theoretical distribution',\n",
    "           style=':', color='C5')\n",
    "pmf_sample_means.plot(label='KDE of sample means')\n",
    "\n",
    "decorate(xlabel='Mean score',\n",
    "         ylabel='PDF',\n",
    "         title='Distribution of the mean')"
   ]
  },
  {
   "cell_type": "code",
   "execution_count": 71,
   "id": "a01387df-edaf-47c8-bc11-67bb9300b9a7",
   "metadata": {},
   "outputs": [
    {
     "data": {
      "text/plain": [
       "(1000,)"
      ]
     },
     "execution_count": 71,
     "metadata": {},
     "output_type": "execute_result"
    }
   ],
   "source": [
    "sample_stds = samples.std(axis=1)\n",
    "sample_stds.shape"
   ]
  },
  {
   "cell_type": "code",
   "execution_count": 72,
   "id": "ec01bb4b-9a1c-469d-9969-276420d3045d",
   "metadata": {},
   "outputs": [],
   "source": [
    "transformed = n * sample_stds**2 / sigma**2"
   ]
  },
  {
   "cell_type": "code",
   "execution_count": 73,
   "id": "de64c3a2-06ad-4be8-9930-ec13530f929a",
   "metadata": {},
   "outputs": [],
   "source": [
    "dist_s = chi2(n-1)"
   ]
  },
  {
   "cell_type": "code",
   "execution_count": 74,
   "id": "a687b938-bed3-4847-9e56-248f181b811b",
   "metadata": {},
   "outputs": [],
   "source": [
    "low = 0\n",
    "high = dist_s.mean() + dist_s.std() * 4\n",
    "\n",
    "pmf_s = pmf_from_dist(dist_s, low, high)"
   ]
  },
  {
   "cell_type": "code",
   "execution_count": 75,
   "id": "d9922fd0-3da6-4948-b4e9-bf13f60b0acb",
   "metadata": {},
   "outputs": [],
   "source": [
    "qs = pmf_s.qs\n",
    "pmf_sample_stds = kde_from_sample(transformed, qs)"
   ]
  },
  {
   "cell_type": "code",
   "execution_count": 76,
   "id": "d3f7b70e-be09-4369-b15f-b2d6504ce7e6",
   "metadata": {},
   "outputs": [
    {
     "data": {
      "image/png": "[encoded data removed]",
      "text/plain": [
       "<Figure size 432x288 with 1 Axes>"
      ]
     },
     "metadata": {
      "needs_background": "light"
     },
     "output_type": "display_data"
    }
   ],
   "source": [
    "pmf_s.plot(label='Theoretical distribution',\n",
    "           style=':', color='C5')\n",
    "pmf_sample_stds.plot(label='KDE of sample std',\n",
    "                     color='C1')\n",
    "\n",
    "decorate(xlabel='Standard deviation of scores',\n",
    "         ylabel='PDF',\n",
    "         title='Distribution of standard deviation')"
   ]
  },
  {
   "cell_type": "code",
   "execution_count": 77,
   "id": "6bc52045-32b2-4d4f-b18b-d56f277d1ece",
   "metadata": {},
   "outputs": [
    {
     "name": "stdout",
     "output_type": "stream",
     "text": [
      "[[ 1.         -0.02104852]\n",
      " [-0.02104852  1.        ]]\n"
     ]
    }
   ],
   "source": [
    "corr = np.corrcoef(sample_means, sample_stds)\n",
    "print(corr)"
   ]
  },
  {
   "cell_type": "code",
   "execution_count": 78,
   "id": "c683b350-3a3f-4e1d-91ce-b01410da45c4",
   "metadata": {},
   "outputs": [
    {
     "data": {
      "text/plain": [
       "-0.021048518349882316"
      ]
     },
     "execution_count": 78,
     "metadata": {},
     "output_type": "execute_result"
    }
   ],
   "source": [
    "corr[0][1]"
   ]
  },
  {
   "cell_type": "code",
   "execution_count": 79,
   "id": "49bae750-2be2-46f4-b721-bf75364654fd",
   "metadata": {},
   "outputs": [
    {
     "data": {
      "image/png": "[encoded data removed]",
      "text/plain": [
       "<Figure size 432x288 with 1 Axes>"
      ]
     },
     "metadata": {
      "needs_background": "light"
     },
     "output_type": "display_data"
    }
   ],
   "source": [
    "sns.kdeplot(x=sample_means, y=sample_stds)\n",
    "\n",
    "decorate(xlabel='Mean (mu)',\n",
    "         ylabel='Standard deviation (sigma)',\n",
    "         title='Joint distribution of mu and sigma')"
   ]
  },
  {
   "cell_type": "code",
   "execution_count": null,
   "id": "05340f59-7d73-457b-a930-9ae5a7978c0c",
   "metadata": {},
   "outputs": [],
   "source": []
  },
  {
   "cell_type": "code",
   "execution_count": null,
   "id": "ed112947-7fd9-4716-ac87-7a9258237be4",
   "metadata": {},
   "outputs": [],
   "source": []
  }
 ],
 "metadata": {
  "kernelspec": {
   "display_name": "Python 3 (ipykernel)",
   "language": "python",
   "name": "python3"
  },
  "language_info": {
   "codemirror_mode": {
    "name": "ipython",
    "version": 3
   },
   "file_extension": ".py",
   "mimetype": "text/x-python",
   "name": "python",
   "nbconvert_exporter": "python",
   "pygments_lexer": "ipython3",
   "version": "3.9.7"
  }
 },
 "nbformat": 4,
 "nbformat_minor": 5
}
