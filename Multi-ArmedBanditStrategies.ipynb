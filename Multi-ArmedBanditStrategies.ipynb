{
 "cells": [
  {
   "cell_type": "code",
   "execution_count": 16,
   "id": "43ee86fe-6af4-4020-9c0a-2a5bc7fe84ba",
   "metadata": {},
   "outputs": [],
   "source": [
    "import numpy as np\n",
    "import random"
   ]
  },
  {
   "cell_type": "code",
   "execution_count": 38,
   "id": "2b84a7f0-6a3e-4cf7-8424-a0651df8c1af",
   "metadata": {},
   "outputs": [],
   "source": [
    "class Restaurant:\n",
    "    def __init__(self, mu, std, name=''):\n",
    "        self.name = name\n",
    "        self.mu = mu\n",
    "        self.std = std\n",
    "    def sample(self):\n",
    "        return np.random.normal(self.mu, self.std)"
   ]
  },
  {
   "cell_type": "code",
   "execution_count": 30,
   "id": "46301994-a9cf-4a72-b1e3-1926ca8d654d",
   "metadata": {},
   "outputs": [],
   "source": [
    "def explore_only(restaurants, days):\n",
    "    score_total = 0\n",
    "    for _ in range(days):\n",
    "        score_total += random.choice(restaurants).sample()\n",
    "    return score_total"
   ]
  },
  {
   "cell_type": "code",
   "execution_count": 31,
   "id": "20f4d25e-8ce1-462f-b679-34ac4c67e50f",
   "metadata": {},
   "outputs": [],
   "source": [
    "def exploit_only(restaurants, days):\n",
    "    score_total = 0\n",
    "    best_rst = None\n",
    "    best_score = 0\n",
    "    for rst in restaurants:\n",
    "        sample = rst.sample()\n",
    "        if  sample > best_score:\n",
    "            best_rst = rst\n",
    "            best_score = sample            \n",
    "        \n",
    "    for _ in range(days - len(restaurants)):\n",
    "        score_total += best_rst.sample()\n",
    "    \n",
    "    return score_total"
   ]
  },
  {
   "cell_type": "code",
   "execution_count": 83,
   "id": "13d8d25b-ab9f-4916-9381-abdde5dcba39",
   "metadata": {},
   "outputs": [],
   "source": [
    "def epsilon_greedy(restaurants, days, epsilon=0.05):\n",
    "    score_total = 0\n",
    "    history = {}\n",
    "    for rst in restaurants:\n",
    "        history[rst] = [rst.sample()]\n",
    "    \n",
    "    for _ in range(days - len(restaurants)):\n",
    "        rnd = np.random.random()\n",
    "        # Explore\n",
    "        if (rnd < epsilon):\n",
    "            chosen = random.choice(restaurants)\n",
    "        # Exploit    \n",
    "        else:\n",
    "            chosen = sorted(history.items(), key=lambda pair: np.mean(pair[-1]))[-1][0]\n",
    "        score = chosen.sample()\n",
    "        score_total += score\n",
    "        history[chosen].append(score)\n",
    "    return score_total"
   ]
  },
  {
   "cell_type": "code",
   "execution_count": 99,
   "id": "1bf83110-0920-4edc-81dd-384ea18eea0b",
   "metadata": {},
   "outputs": [],
   "source": [
    "def ucb1(restaurants, days):\n",
    "    score_total = 0\n",
    "    history = {rst: [rst.sample()] for rst in restaurants}\n",
    "    \n",
    "    for t in range(len(restaurants), days):\n",
    "        chosen = sorted(history.items(), key=lambda pair: np.mean(pair[-1]) + np.sqrt(2 * np.log(t + 1) / len(pair[-1])))[-1][0]\n",
    "        score = chosen.sample()\n",
    "        score_total += score\n",
    "        history[chosen].append(score)\n",
    "    return score_total"
   ]
  },
  {
   "cell_type": "code",
   "execution_count": 39,
   "id": "46174df8-a051-47e4-a99f-f8870e6e1894",
   "metadata": {},
   "outputs": [],
   "source": [
    "std_factor = 0.5\n",
    "num_restaurants = 3\n",
    "\n",
    "mu_vals = [3 * i for i in range(1, num_restaurants + 1)]\n",
    "std_vals = [mu * std_factor for mu in mu_vals]\n",
    "mu_std_pairs = zip(mu_vals, std_vals)\n",
    "\n",
    "candidates = [Restaurant(mu, std) for mu, std in mu_std_pairs]"
   ]
  },
  {
   "cell_type": "code",
   "execution_count": 21,
   "id": "519a64e5-ac35-407b-ac71-1b79d88dd9f8",
   "metadata": {},
   "outputs": [
    {
     "name": "stdout",
     "output_type": "stream",
     "text": [
      "Optimal score: 2700\n"
     ]
    }
   ],
   "source": [
    "num_days = 300\n",
    "optimal_average = max(mu_vals) * num_days\n",
    "print('Optimal score: {}'.format(optimal_average))"
   ]
  },
  {
   "cell_type": "code",
   "execution_count": 32,
   "id": "4d82fe93-cf88-480c-b01a-208f89e14049",
   "metadata": {},
   "outputs": [
    {
     "name": "stdout",
     "output_type": "stream",
     "text": [
      "Explore Only Mean Regret: 0.3340336046298928\n"
     ]
    }
   ],
   "source": [
    "explore_only_vals = []\n",
    "for _ in range(1000):\n",
    "    val = explore_only(candidates, num_days)\n",
    "    explore_only_vals.append(val)\n",
    "print('Explore Only Mean Regret: {}'.format((optimal_average - np.mean(explore_only_vals)) / optimal_average))"
   ]
  },
  {
   "cell_type": "code",
   "execution_count": 64,
   "id": "be67c9bd-7b84-42c0-bd40-2c0028a69736",
   "metadata": {},
   "outputs": [
    {
     "name": "stdout",
     "output_type": "stream",
     "text": [
      "Exploit Only Mean Regret: 0.10676547428258244\n"
     ]
    }
   ],
   "source": [
    "exploit_only_vals = []\n",
    "for _ in range(1000):\n",
    "    val = exploit_only(candidates, num_days)\n",
    "    exploit_only_vals.append(val)\n",
    "print('Exploit Only Mean Regret: %s'%((optimal_average - np.mean(exploit_only_vals)) / optimal_average))"
   ]
  },
  {
   "cell_type": "code",
   "execution_count": 94,
   "id": "3d76c2f1-440e-4e18-9f01-8ae8063505be",
   "metadata": {},
   "outputs": [
    {
     "name": "stdout",
     "output_type": "stream",
     "text": [
      "Epsilon Greedy Mean Regret (epsilon=0.1): 0.0594137799935064\n"
     ]
    }
   ],
   "source": [
    "epsilon = 0.1\n",
    "epsilon_greedy_vals = []\n",
    "for _ in range(1000):\n",
    "    val = epsilon_greedy(candidates, num_days, epsilon)\n",
    "    epsilon_greedy_vals.append(val)\n",
    "print('Epsilon Greedy Mean Regret (epsilon={}): {}'.format(epsilon, (optimal_average - np.mean(epsilon_greedy_vals)) / optimal_average))"
   ]
  },
  {
   "cell_type": "code",
   "execution_count": 102,
   "id": "3f79e5a4-edd2-450b-9a16-f57c148240b5",
   "metadata": {},
   "outputs": [
    {
     "name": "stdout",
     "output_type": "stream",
     "text": [
      "Epsilon Greedy Mean Regret (epsilon=0.05): 0.057500183342456324\n"
     ]
    }
   ],
   "source": [
    "epsilon = 0.05\n",
    "epsilon_greedy_vals = []\n",
    "for _ in range(1000):\n",
    "    val = epsilon_greedy(candidates, num_days, epsilon)\n",
    "    epsilon_greedy_vals.append(val)\n",
    "print('Epsilon Greedy Mean Regret (epsilon={}): {}'.format(epsilon, (optimal_average - np.mean(epsilon_greedy_vals)) / optimal_average))"
   ]
  },
  {
   "cell_type": "code",
   "execution_count": 101,
   "id": "68943ee6-1369-4723-a1dd-59c8e47671ea",
   "metadata": {},
   "outputs": [
    {
     "name": "stdout",
     "output_type": "stream",
     "text": [
      "UCB1 Mean Regret: 0.052293375649780365\n"
     ]
    }
   ],
   "source": [
    "ucb1_vals = []\n",
    "for _ in range(1000):\n",
    "    val = ucb1(candidates, num_days)\n",
    "    ucb1_vals.append(val)\n",
    "print('UCB1 Mean Regret: {}'.format((optimal_average - np.mean(ucb1_vals)) / optimal_average))"
   ]
  }
 ],
 "metadata": {
  "kernelspec": {
   "display_name": "Python 3",
   "language": "python",
   "name": "python3"
  },
  "language_info": {
   "codemirror_mode": {
    "name": "ipython",
    "version": 3
   },
   "file_extension": ".py",
   "mimetype": "text/x-python",
   "name": "python",
   "nbconvert_exporter": "python",
   "pygments_lexer": "ipython3",
   "version": "3.9.1"
  }
 },
 "nbformat": 4,
 "nbformat_minor": 5
}
