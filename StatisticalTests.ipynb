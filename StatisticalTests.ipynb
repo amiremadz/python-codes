{
 "cells": [
  {
   "cell_type": "code",
   "execution_count": 1,
   "id": "6c4f1c79-6979-4ca1-9d35-dad535d3c4f5",
   "metadata": {},
   "outputs": [
    {
     "data": {
      "text/html": [
       "<div>\n",
       "<style scoped>\n",
       "    .dataframe tbody tr th:only-of-type {\n",
       "        vertical-align: middle;\n",
       "    }\n",
       "\n",
       "    .dataframe tbody tr th {\n",
       "        vertical-align: top;\n",
       "    }\n",
       "\n",
       "    .dataframe thead th {\n",
       "        text-align: right;\n",
       "    }\n",
       "</style>\n",
       "<table border=\"1\" class=\"dataframe\">\n",
       "  <thead>\n",
       "    <tr style=\"text-align: right;\">\n",
       "      <th></th>\n",
       "      <th>Gender</th>\n",
       "      <th>Age_Group</th>\n",
       "      <th>Weight</th>\n",
       "      <th>Height</th>\n",
       "    </tr>\n",
       "  </thead>\n",
       "  <tbody>\n",
       "    <tr>\n",
       "      <th>0</th>\n",
       "      <td>F</td>\n",
       "      <td>35-45</td>\n",
       "      <td>63</td>\n",
       "      <td>151</td>\n",
       "    </tr>\n",
       "    <tr>\n",
       "      <th>1</th>\n",
       "      <td>F</td>\n",
       "      <td>35-45</td>\n",
       "      <td>59</td>\n",
       "      <td>158</td>\n",
       "    </tr>\n",
       "    <tr>\n",
       "      <th>2</th>\n",
       "      <td>M</td>\n",
       "      <td>35-45</td>\n",
       "      <td>59</td>\n",
       "      <td>169</td>\n",
       "    </tr>\n",
       "    <tr>\n",
       "      <th>3</th>\n",
       "      <td>M</td>\n",
       "      <td>45-80</td>\n",
       "      <td>70</td>\n",
       "      <td>170</td>\n",
       "    </tr>\n",
       "    <tr>\n",
       "      <th>4</th>\n",
       "      <td>F</td>\n",
       "      <td>45-80</td>\n",
       "      <td>56</td>\n",
       "      <td>161</td>\n",
       "    </tr>\n",
       "  </tbody>\n",
       "</table>\n",
       "</div>"
      ],
      "text/plain": [
       "  Gender Age_Group  Weight  Height\n",
       "0      F     35-45      63     151\n",
       "1      F     35-45      59     158\n",
       "2      M     35-45      59     169\n",
       "3      M     45-80      70     170\n",
       "4      F     45-80      56     161"
      ]
     },
     "execution_count": 1,
     "metadata": {},
     "output_type": "execute_result"
    }
   ],
   "source": [
    "import pandas as pd\n",
    "import numpy as np\n",
    "import random \n",
    " \n",
    " \n",
    "df=pd.DataFrame({'Gender':random.choices([\"M\",'F'],weights=(0.4,0.6),k=1000),\n",
    "                'Age_Group':random.choices([\"18-35\",'35-45','45-80'],weights=(0.2,0.5,0.3),k=1000)})\n",
    "df['Weight']=np.where(df['Gender']==\"F\",np.random.normal(loc=55,scale=5,size=1000),np.random.normal(loc=70,scale=5,size=1000))\n",
    "df['Height']=np.where(df['Gender']==\"F\",np.random.normal(loc=160,scale=5,size=1000),np.random.normal(loc=172,scale=5,size=1000))\n",
    "df['Weight']=df['Weight'].astype(int)\n",
    "df['Height']=df['Height'].astype(int)\n",
    " \n",
    "df.head()"
   ]
  },
  {
   "cell_type": "code",
   "execution_count": 5,
   "id": "535027f7-11e9-4ea7-951d-b166a6bf61ee",
   "metadata": {},
   "outputs": [
    {
     "data": {
      "text/plain": [
       "(1000, 4)"
      ]
     },
     "execution_count": 5,
     "metadata": {},
     "output_type": "execute_result"
    }
   ],
   "source": [
    "df.shape"
   ]
  },
  {
   "cell_type": "code",
   "execution_count": 20,
   "id": "e40560b2-bf1c-4854-98b6-d93c50777266",
   "metadata": {},
   "outputs": [
    {
     "data": {
      "text/plain": [
       "(145, 4)"
      ]
     },
     "execution_count": 20,
     "metadata": {},
     "output_type": "execute_result"
    }
   ],
   "source": [
    "df[(df['Age_Group'] == '18-35') & (df['Gender'] == 'F')].shape"
   ]
  },
  {
   "cell_type": "code",
   "execution_count": 33,
   "id": "deaa9785-b414-4236-8463-0202a3a9cc4d",
   "metadata": {},
   "outputs": [
    {
     "data": {
      "text/plain": [
       "(386,)"
      ]
     },
     "execution_count": 33,
     "metadata": {},
     "output_type": "execute_result"
    }
   ],
   "source": [
    "df.query('Gender==\"M\"')['Height'].shape"
   ]
  },
  {
   "cell_type": "code",
   "execution_count": 32,
   "id": "3a75a5f6-d95c-46e0-9920-85067a9f3150",
   "metadata": {},
   "outputs": [
    {
     "data": {
      "text/plain": [
       "(614,)"
      ]
     },
     "execution_count": 32,
     "metadata": {},
     "output_type": "execute_result"
    }
   ],
   "source": [
    "df.query('Gender==\"F\"')['Height'].shape"
   ]
  },
  {
   "cell_type": "markdown",
   "id": "3600d6d5-f46a-4658-b1ac-321f6b4a705d",
   "metadata": {},
   "source": [
    "### For a single categorical variable that we want to check if there is a difference between the number of its values, we will use a one proportion Z test."
   ]
  },
  {
   "cell_type": "code",
   "execution_count": 42,
   "id": "4967630a-9b65-495f-aa55-b650b19806c8",
   "metadata": {},
   "outputs": [
    {
     "name": "stdout",
     "output_type": "stream",
     "text": [
      "p_value:  0.0\n"
     ]
    }
   ],
   "source": [
    "# Test About One Categorical Variable\n",
    "# Sample Question: Is there a difference in the number of men and women in the population?\n",
    "\n",
    "from statsmodels.stats.proportion import proportions_ztest\n",
    " \n",
    "count = df.query('Gender==\"F\"').shape[0] #number of females \n",
    "nobs = 1000 #number of rows | or trials \n",
    "value = 0.5 # This is the value of the null hypothesis. That means porpotion of men = porpotion of women = 0.5\n",
    " \n",
    "#we are using alternative='two-sided' because we are chcking Pm≠Pw.\n",
    "#for Pw>Pm we have to set it to \"larger\" and for Pw<Pm to \"smaller\"\n",
    " \n",
    "stat, pval = proportions_ztest(count, nobs, value, alternative='two-sided')\n",
    " \n",
    "print(\"p_value: \",round(pval,3))"
   ]
  },
  {
   "cell_type": "markdown",
   "id": "2f173066-e8f4-4958-8143-3523f329f9bd",
   "metadata": {},
   "source": [
    "### Test About Two Categorical Variables\n",
    "### Sample Question: Does the proportion of males and females differ across age groups?\n",
    "\n",
    "\n",
    "If we want to check the independence of two categorical values, we will use the Chi-Squared test."
   ]
  },
  {
   "cell_type": "code",
   "execution_count": 52,
   "id": "8a739146-00d0-42bb-9ef7-89c52085bf68",
   "metadata": {},
   "outputs": [
    {
     "data": {
      "text/html": [
       "<div>\n",
       "<style scoped>\n",
       "    .dataframe tbody tr th:only-of-type {\n",
       "        vertical-align: middle;\n",
       "    }\n",
       "\n",
       "    .dataframe tbody tr th {\n",
       "        vertical-align: top;\n",
       "    }\n",
       "\n",
       "    .dataframe thead th {\n",
       "        text-align: right;\n",
       "    }\n",
       "</style>\n",
       "<table border=\"1\" class=\"dataframe\">\n",
       "  <thead>\n",
       "    <tr style=\"text-align: right;\">\n",
       "      <th>Age_Group</th>\n",
       "      <th>18-35</th>\n",
       "      <th>35-45</th>\n",
       "      <th>45-80</th>\n",
       "    </tr>\n",
       "    <tr>\n",
       "      <th>Gender</th>\n",
       "      <th></th>\n",
       "      <th></th>\n",
       "      <th></th>\n",
       "    </tr>\n",
       "  </thead>\n",
       "  <tbody>\n",
       "    <tr>\n",
       "      <th>F</th>\n",
       "      <td>145</td>\n",
       "      <td>278</td>\n",
       "      <td>191</td>\n",
       "    </tr>\n",
       "    <tr>\n",
       "      <th>M</th>\n",
       "      <td>78</td>\n",
       "      <td>199</td>\n",
       "      <td>109</td>\n",
       "    </tr>\n",
       "  </tbody>\n",
       "</table>\n",
       "</div>"
      ],
      "text/plain": [
       "Age_Group  18-35  35-45  45-80\n",
       "Gender                        \n",
       "F            145    278    191\n",
       "M             78    199    109"
      ]
     },
     "execution_count": 52,
     "metadata": {},
     "output_type": "execute_result"
    }
   ],
   "source": [
    "from scipy.stats import chi2_contingency\n",
    " \n",
    "#The easiest way to apply a chi-squared test is to compute the contigency table.\n",
    " \n",
    "contigency= pd.crosstab(df['Gender'], df['Age_Group'])\n",
    "contigency"
   ]
  },
  {
   "cell_type": "code",
   "execution_count": 22,
   "id": "52543165-51ee-448c-89ad-61ca5bfdace1",
   "metadata": {},
   "outputs": [
    {
     "data": {
      "text/plain": [
       "Gender\n",
       "F    614\n",
       "M    386\n",
       "dtype: int64"
      ]
     },
     "execution_count": 22,
     "metadata": {},
     "output_type": "execute_result"
    }
   ],
   "source": [
    "contigency.sum(axis=1)"
   ]
  },
  {
   "cell_type": "code",
   "execution_count": 21,
   "id": "7fca5277-14e2-4452-85c4-6689efe67a3c",
   "metadata": {},
   "outputs": [
    {
     "name": "stdout",
     "output_type": "stream",
     "text": [
      "p_value:  0.146\n"
     ]
    }
   ],
   "source": [
    "#Chi-square test of independence.\n",
    "c, p, dof, expected = chi2_contingency(contigency)\n",
    " \n",
    "print(\"p_value: \",round(p,3))"
   ]
  },
  {
   "cell_type": "markdown",
   "id": "8194a98e-a8ca-4b79-816d-64cbeb13a95e",
   "metadata": {},
   "source": [
    "### Test About one Categorical and one Numeric Variable\n",
    "\n",
    "### Sample Question: Is there a difference in height between men and women?\n"
   ]
  },
  {
   "cell_type": "code",
   "execution_count": 40,
   "id": "9a094c6a-642b-46fc-bdbd-fbbde257647d",
   "metadata": {},
   "outputs": [
    {
     "name": "stdout",
     "output_type": "stream",
     "text": [
      "p_value:  0.0\n"
     ]
    }
   ],
   "source": [
    "\n",
    "from scipy.stats import ttest_ind\n",
    " \n",
    "#this is a two-sided test\n",
    "#you can divide the two-sided p-value by two, and this will give you the one-sided one.\n",
    " \n",
    "t_stat, p = ttest_ind(df.query('Gender==\"M\"')['Height'], df.query('Gender==\"F\"')['Height'])\n",
    " \n",
    "print(\"p_value: \",round(p,3))"
   ]
  },
  {
   "cell_type": "markdown",
   "id": "133cb49d-83f9-47b1-acda-4f27c92a7a78",
   "metadata": {},
   "source": [
    "### Test About one Categorical with more than two unique values and one Numeric Variable.\n",
    "### Sample Question: Is there a difference in height between age groups?\n"
   ]
  },
  {
   "cell_type": "code",
   "execution_count": 51,
   "id": "34f75231-2004-4c3f-b829-1d67b950349a",
   "metadata": {},
   "outputs": [
    {
     "name": "stdout",
     "output_type": "stream",
     "text": [
      "p_value:  0.616\n"
     ]
    }
   ],
   "source": [
    "import scipy.stats as stats\n",
    " \n",
    "# stats f_oneway functions takes the groups as input and returns ANOVA F and p value\n",
    "fvalue, pvalue = stats.f_oneway(df.query('Age_Group==\"18-35\"')['Height'],\n",
    "                                df.query('Age_Group==\"35-45\"')['Height'],\n",
    "                                df.query('Age_Group==\"45-80\"')['Height'])\n",
    " \n",
    "print(\"p_value: \",round(pvalue,3))"
   ]
  },
  {
   "cell_type": "markdown",
   "id": "b6768058-bd8d-4da3-8272-a53fccf8b572",
   "metadata": {},
   "source": [
    "### Test About Two Numeric Variables\n",
    "### Sample Question: Is there a relationship between height and weight?\n"
   ]
  },
  {
   "cell_type": "code",
   "execution_count": 47,
   "id": "682d4d40-87c1-4abc-ba30-6e9fcd68a876",
   "metadata": {},
   "outputs": [
    {
     "name": "stdout",
     "output_type": "stream",
     "text": [
      "Pearson Correlation Coefficient:  0.6115254575404476 and a P-value of: 0.0\n"
     ]
    }
   ],
   "source": [
    "import scipy.stats as stats\n",
    " \n",
    "#for this example we will use the Pearson Correlation.\n",
    "pearson_coef, p_value = stats.pearsonr(df[\"Weight\"], df[\"Height\"])\n",
    " \n",
    "print(\"Pearson Correlation Coefficient: \", pearson_coef, \"and a P-value of:\", round(p_value,3))"
   ]
  },
  {
   "cell_type": "code",
   "execution_count": null,
   "id": "5aa1a5a6-d0a3-4293-b933-5ce02a7e9f59",
   "metadata": {},
   "outputs": [],
   "source": []
  },
  {
   "cell_type": "code",
   "execution_count": null,
   "id": "92f41eb0-297a-4661-91a4-fed2e86d15a4",
   "metadata": {},
   "outputs": [],
   "source": []
  }
 ],
 "metadata": {
  "kernelspec": {
   "display_name": "Python 3",
   "language": "python",
   "name": "python3"
  },
  "language_info": {
   "codemirror_mode": {
    "name": "ipython",
    "version": 3
   },
   "file_extension": ".py",
   "mimetype": "text/x-python",
   "name": "python",
   "nbconvert_exporter": "python",
   "pygments_lexer": "ipython3",
   "version": "3.9.1"
  }
 },
 "nbformat": 4,
 "nbformat_minor": 5
}
